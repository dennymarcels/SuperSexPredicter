{
 "cells": [
  {
   "cell_type": "markdown",
   "id": "graphic-poland",
   "metadata": {},
   "source": [
    "# SEX PREDICTION FROM CLINICAL EXAMINATION\n",
    "\n",
    "This notebook deals with data exploration, data cleaning, data preprocessing, and model design for the proposed challenge."
   ]
  },
  {
   "cell_type": "markdown",
   "id": "concrete-december",
   "metadata": {},
   "source": [
    "## Dependencies"
   ]
  },
  {
   "cell_type": "code",
   "execution_count": 1,
   "id": "choice-factor",
   "metadata": {},
   "outputs": [],
   "source": [
    "import pandas as pd\n",
    "import numpy as np\n",
    "\n",
    "import matplotlib.pyplot as plt\n",
    "import seaborn as sns\n",
    "\n",
    "from sklearn.preprocessing import StandardScaler, MinMaxScaler, OneHotEncoder\n",
    "from sklearn.model_selection import StratifiedKFold, cross_val_score, GridSearchCV, train_test_split\n",
    "from sklearn.linear_model import LogisticRegression\n",
    "from sklearn.svm import SVC\n",
    "from sklearn.tree import DecisionTreeClassifier\n",
    "from sklearn.ensemble import GradientBoostingClassifier, ExtraTreesClassifier\n",
    "from sklearn.neural_network import MLPClassifier\n",
    "from sklearn.metrics import confusion_matrix\n",
    "\n",
    "from itertools import product\n",
    "\n",
    "from joblib import dump\n",
    "\n",
    "import warnings"
   ]
  },
  {
   "cell_type": "markdown",
   "id": "colonial-faith",
   "metadata": {},
   "source": [
    "Since I will be performing several value assignments in slices of Pandas dataframes, I will turn warnings off to curtail visual pollution."
   ]
  },
  {
   "cell_type": "code",
   "execution_count": 2,
   "id": "baking-living",
   "metadata": {},
   "outputs": [],
   "source": [
    "warnings.filterwarnings(\"ignore\")"
   ]
  },
  {
   "cell_type": "markdown",
   "id": "dated-tampa",
   "metadata": {},
   "source": [
    "## Data exploration\n",
    "\n",
    "### Basic analysis\n",
    "\n",
    "Loading the data."
   ]
  },
  {
   "cell_type": "code",
   "execution_count": 3,
   "id": "comfortable-device",
   "metadata": {},
   "outputs": [
    {
     "data": {
      "text/html": [
       "<div>\n",
       "<style scoped>\n",
       "    .dataframe tbody tr th:only-of-type {\n",
       "        vertical-align: middle;\n",
       "    }\n",
       "\n",
       "    .dataframe tbody tr th {\n",
       "        vertical-align: top;\n",
       "    }\n",
       "\n",
       "    .dataframe thead th {\n",
       "        text-align: right;\n",
       "    }\n",
       "</style>\n",
       "<table border=\"1\" class=\"dataframe\">\n",
       "  <thead>\n",
       "    <tr style=\"text-align: right;\">\n",
       "      <th></th>\n",
       "      <th>age</th>\n",
       "      <th>sex</th>\n",
       "      <th>cp</th>\n",
       "      <th>trestbps</th>\n",
       "      <th>chol</th>\n",
       "      <th>fbs</th>\n",
       "      <th>restecg</th>\n",
       "      <th>thalach</th>\n",
       "      <th>exang</th>\n",
       "      <th>oldpeak</th>\n",
       "      <th>slope</th>\n",
       "      <th>ca</th>\n",
       "      <th>thal</th>\n",
       "      <th>nar</th>\n",
       "      <th>hc</th>\n",
       "      <th>sk</th>\n",
       "      <th>trf</th>\n",
       "    </tr>\n",
       "    <tr>\n",
       "      <th>index</th>\n",
       "      <th></th>\n",
       "      <th></th>\n",
       "      <th></th>\n",
       "      <th></th>\n",
       "      <th></th>\n",
       "      <th></th>\n",
       "      <th></th>\n",
       "      <th></th>\n",
       "      <th></th>\n",
       "      <th></th>\n",
       "      <th></th>\n",
       "      <th></th>\n",
       "      <th></th>\n",
       "      <th></th>\n",
       "      <th></th>\n",
       "      <th></th>\n",
       "      <th></th>\n",
       "    </tr>\n",
       "  </thead>\n",
       "  <tbody>\n",
       "    <tr>\n",
       "      <th>0</th>\n",
       "      <td>49</td>\n",
       "      <td>M</td>\n",
       "      <td>10000</td>\n",
       "      <td>130</td>\n",
       "      <td>269.0</td>\n",
       "      <td>0</td>\n",
       "      <td>1</td>\n",
       "      <td>163</td>\n",
       "      <td>0</td>\n",
       "      <td>0.0</td>\n",
       "      <td>2.0</td>\n",
       "      <td>0</td>\n",
       "      <td>2</td>\n",
       "      <td>2</td>\n",
       "      <td>0</td>\n",
       "      <td>1</td>\n",
       "      <td>6797.761892</td>\n",
       "    </tr>\n",
       "    <tr>\n",
       "      <th>1</th>\n",
       "      <td>61</td>\n",
       "      <td>F</td>\n",
       "      <td>10000</td>\n",
       "      <td>138</td>\n",
       "      <td>166.0</td>\n",
       "      <td>0</td>\n",
       "      <td>0</td>\n",
       "      <td>125</td>\n",
       "      <td>1</td>\n",
       "      <td>3.6</td>\n",
       "      <td>NaN</td>\n",
       "      <td>1</td>\n",
       "      <td>2</td>\n",
       "      <td>2</td>\n",
       "      <td>1</td>\n",
       "      <td>3</td>\n",
       "      <td>4307.686943</td>\n",
       "    </tr>\n",
       "    <tr>\n",
       "      <th>2</th>\n",
       "      <td>46</td>\n",
       "      <td>F</td>\n",
       "      <td>10000</td>\n",
       "      <td>140</td>\n",
       "      <td>311.0</td>\n",
       "      <td>0</td>\n",
       "      <td>1</td>\n",
       "      <td>120</td>\n",
       "      <td>1</td>\n",
       "      <td>1.8</td>\n",
       "      <td>NaN</td>\n",
       "      <td>2</td>\n",
       "      <td>3</td>\n",
       "      <td>2</td>\n",
       "      <td>0</td>\n",
       "      <td>1</td>\n",
       "      <td>4118.077502</td>\n",
       "    </tr>\n",
       "    <tr>\n",
       "      <th>3</th>\n",
       "      <td>69</td>\n",
       "      <td>F</td>\n",
       "      <td>10000</td>\n",
       "      <td>140</td>\n",
       "      <td>254.0</td>\n",
       "      <td>0</td>\n",
       "      <td>0</td>\n",
       "      <td>146</td>\n",
       "      <td>0</td>\n",
       "      <td>2.0</td>\n",
       "      <td>1.0</td>\n",
       "      <td>3</td>\n",
       "      <td>3</td>\n",
       "      <td>2</td>\n",
       "      <td>1</td>\n",
       "      <td>0</td>\n",
       "      <td>7170.849469</td>\n",
       "    </tr>\n",
       "    <tr>\n",
       "      <th>4</th>\n",
       "      <td>51</td>\n",
       "      <td>F</td>\n",
       "      <td>10000</td>\n",
       "      <td>100</td>\n",
       "      <td>222.0</td>\n",
       "      <td>0</td>\n",
       "      <td>1</td>\n",
       "      <td>143</td>\n",
       "      <td>1</td>\n",
       "      <td>1.2</td>\n",
       "      <td>1.0</td>\n",
       "      <td>0</td>\n",
       "      <td>2</td>\n",
       "      <td>2</td>\n",
       "      <td>1</td>\n",
       "      <td>0</td>\n",
       "      <td>5579.040145</td>\n",
       "    </tr>\n",
       "    <tr>\n",
       "      <th>...</th>\n",
       "      <td>...</td>\n",
       "      <td>...</td>\n",
       "      <td>...</td>\n",
       "      <td>...</td>\n",
       "      <td>...</td>\n",
       "      <td>...</td>\n",
       "      <td>...</td>\n",
       "      <td>...</td>\n",
       "      <td>...</td>\n",
       "      <td>...</td>\n",
       "      <td>...</td>\n",
       "      <td>...</td>\n",
       "      <td>...</td>\n",
       "      <td>...</td>\n",
       "      <td>...</td>\n",
       "      <td>...</td>\n",
       "      <td>...</td>\n",
       "    </tr>\n",
       "    <tr>\n",
       "      <th>283</th>\n",
       "      <td>54</td>\n",
       "      <td>F</td>\n",
       "      <td>10000</td>\n",
       "      <td>125</td>\n",
       "      <td>273.0</td>\n",
       "      <td>0</td>\n",
       "      <td>0</td>\n",
       "      <td>152</td>\n",
       "      <td>0</td>\n",
       "      <td>0.5</td>\n",
       "      <td>0.0</td>\n",
       "      <td>1</td>\n",
       "      <td>2</td>\n",
       "      <td>2</td>\n",
       "      <td>2</td>\n",
       "      <td>0</td>\n",
       "      <td>6293.123474</td>\n",
       "    </tr>\n",
       "    <tr>\n",
       "      <th>284</th>\n",
       "      <td>42</td>\n",
       "      <td>F</td>\n",
       "      <td>10000</td>\n",
       "      <td>120</td>\n",
       "      <td>240.0</td>\n",
       "      <td>1</td>\n",
       "      <td>1</td>\n",
       "      <td>194</td>\n",
       "      <td>0</td>\n",
       "      <td>0.8</td>\n",
       "      <td>0.0</td>\n",
       "      <td>0</td>\n",
       "      <td>3</td>\n",
       "      <td>2</td>\n",
       "      <td>0</td>\n",
       "      <td>1</td>\n",
       "      <td>3303.841931</td>\n",
       "    </tr>\n",
       "    <tr>\n",
       "      <th>285</th>\n",
       "      <td>67</td>\n",
       "      <td>M</td>\n",
       "      <td>10000</td>\n",
       "      <td>106</td>\n",
       "      <td>223.0</td>\n",
       "      <td>0</td>\n",
       "      <td>1</td>\n",
       "      <td>142</td>\n",
       "      <td>0</td>\n",
       "      <td>0.3</td>\n",
       "      <td>NaN</td>\n",
       "      <td>2</td>\n",
       "      <td>2</td>\n",
       "      <td>2</td>\n",
       "      <td>1</td>\n",
       "      <td>0</td>\n",
       "      <td>3383.029119</td>\n",
       "    </tr>\n",
       "    <tr>\n",
       "      <th>286</th>\n",
       "      <td>67</td>\n",
       "      <td>F</td>\n",
       "      <td>10000</td>\n",
       "      <td>125</td>\n",
       "      <td>254.0</td>\n",
       "      <td>1</td>\n",
       "      <td>1</td>\n",
       "      <td>163</td>\n",
       "      <td>0</td>\n",
       "      <td>0.2</td>\n",
       "      <td>1.0</td>\n",
       "      <td>2</td>\n",
       "      <td>3</td>\n",
       "      <td>2</td>\n",
       "      <td>0</td>\n",
       "      <td>2</td>\n",
       "      <td>768.900795</td>\n",
       "    </tr>\n",
       "    <tr>\n",
       "      <th>287</th>\n",
       "      <td>60</td>\n",
       "      <td>F</td>\n",
       "      <td>10000</td>\n",
       "      <td>130</td>\n",
       "      <td>253.0</td>\n",
       "      <td>0</td>\n",
       "      <td>1</td>\n",
       "      <td>144</td>\n",
       "      <td>1</td>\n",
       "      <td>1.4</td>\n",
       "      <td>NaN</td>\n",
       "      <td>1</td>\n",
       "      <td>3</td>\n",
       "      <td>2</td>\n",
       "      <td>0</td>\n",
       "      <td>0</td>\n",
       "      <td>1508.832825</td>\n",
       "    </tr>\n",
       "  </tbody>\n",
       "</table>\n",
       "<p>288 rows × 17 columns</p>\n",
       "</div>"
      ],
      "text/plain": [
       "       age sex     cp  trestbps   chol  fbs  restecg  thalach  exang  oldpeak  \\\n",
       "index                                                                           \n",
       "0       49   M  10000       130  269.0    0        1      163      0      0.0   \n",
       "1       61   F  10000       138  166.0    0        0      125      1      3.6   \n",
       "2       46   F  10000       140  311.0    0        1      120      1      1.8   \n",
       "3       69   F  10000       140  254.0    0        0      146      0      2.0   \n",
       "4       51   F  10000       100  222.0    0        1      143      1      1.2   \n",
       "...    ...  ..    ...       ...    ...  ...      ...      ...    ...      ...   \n",
       "283     54   F  10000       125  273.0    0        0      152      0      0.5   \n",
       "284     42   F  10000       120  240.0    1        1      194      0      0.8   \n",
       "285     67   M  10000       106  223.0    0        1      142      0      0.3   \n",
       "286     67   F  10000       125  254.0    1        1      163      0      0.2   \n",
       "287     60   F  10000       130  253.0    0        1      144      1      1.4   \n",
       "\n",
       "       slope  ca  thal  nar  hc  sk          trf  \n",
       "index                                             \n",
       "0        2.0   0     2    2   0   1  6797.761892  \n",
       "1        NaN   1     2    2   1   3  4307.686943  \n",
       "2        NaN   2     3    2   0   1  4118.077502  \n",
       "3        1.0   3     3    2   1   0  7170.849469  \n",
       "4        1.0   0     2    2   1   0  5579.040145  \n",
       "...      ...  ..   ...  ...  ..  ..          ...  \n",
       "283      0.0   1     2    2   2   0  6293.123474  \n",
       "284      0.0   0     3    2   0   1  3303.841931  \n",
       "285      NaN   2     2    2   1   0  3383.029119  \n",
       "286      1.0   2     3    2   0   2   768.900795  \n",
       "287      NaN   1     3    2   0   0  1508.832825  \n",
       "\n",
       "[288 rows x 17 columns]"
      ]
     },
     "execution_count": 3,
     "metadata": {},
     "output_type": "execute_result"
    }
   ],
   "source": [
    "df = pd.read_csv('test_data_CANDIDATE.csv', index_col = 0)\n",
    "df"
   ]
  },
  {
   "cell_type": "markdown",
   "id": "constitutional-revolution",
   "metadata": {},
   "source": [
    "There are 288 instances of data, described by 17 features, being one of them the target feature (sex).\n",
    "\n",
    "According to the data documentation, the features are:\n",
    "\n",
    "> - age: in years\n",
    "> - sex: (M = male; F = female)\n",
    "> - cp: chest pain type\n",
    "> - trestbps: resting blood pressure (in mm Hg on admission to the hospital)\n",
    "> - chol: serum cholesterol in mg/dl\n",
    "> - fbs: (fasting blood sugar > 120 mg/dl) (1 = true; 0 = false)\n",
    "> - restecg: resting electrocardiographic results\n",
    "> - thalach: maximum heart rate achieved\n",
    "> - nar: number of arms\n",
    "> - exang: exercise induced angina (1 = yes; 0 = no)\n",
    "> - oldpeak: ST depression induced by exercise relative to rest\n",
    "> - slope: the slope of the peak exercise ST segment\n",
    "> - hc: patient's hair colour\n",
    "> - sk: patient's skin colour\n",
    "> - trf: time spent in traffic daily (in seconds)\n",
    "> - ca: number of major vessels (0-3) colored by flourosopya\n",
    "> - thal: 3 = normal; 6 = fixed defect; 7 = reversable defect\n",
    "\n",
    "Some basic information can be returned using Pandas's built-in methods."
   ]
  },
  {
   "cell_type": "code",
   "execution_count": 4,
   "id": "alleged-phrase",
   "metadata": {},
   "outputs": [
    {
     "data": {
      "text/html": [
       "<div>\n",
       "<style scoped>\n",
       "    .dataframe tbody tr th:only-of-type {\n",
       "        vertical-align: middle;\n",
       "    }\n",
       "\n",
       "    .dataframe tbody tr th {\n",
       "        vertical-align: top;\n",
       "    }\n",
       "\n",
       "    .dataframe thead th {\n",
       "        text-align: right;\n",
       "    }\n",
       "</style>\n",
       "<table border=\"1\" class=\"dataframe\">\n",
       "  <thead>\n",
       "    <tr style=\"text-align: right;\">\n",
       "      <th></th>\n",
       "      <th>age</th>\n",
       "      <th>cp</th>\n",
       "      <th>trestbps</th>\n",
       "      <th>chol</th>\n",
       "      <th>fbs</th>\n",
       "      <th>restecg</th>\n",
       "      <th>thalach</th>\n",
       "      <th>exang</th>\n",
       "      <th>oldpeak</th>\n",
       "      <th>slope</th>\n",
       "      <th>ca</th>\n",
       "      <th>thal</th>\n",
       "      <th>nar</th>\n",
       "      <th>hc</th>\n",
       "      <th>sk</th>\n",
       "      <th>trf</th>\n",
       "    </tr>\n",
       "  </thead>\n",
       "  <tbody>\n",
       "    <tr>\n",
       "      <th>count</th>\n",
       "      <td>288.000000</td>\n",
       "      <td>288.0</td>\n",
       "      <td>288.000000</td>\n",
       "      <td>272.000000</td>\n",
       "      <td>288.000000</td>\n",
       "      <td>288.000000</td>\n",
       "      <td>288.000000</td>\n",
       "      <td>288.000000</td>\n",
       "      <td>288.000000</td>\n",
       "      <td>145.000000</td>\n",
       "      <td>288.000000</td>\n",
       "      <td>288.000000</td>\n",
       "      <td>288.000000</td>\n",
       "      <td>288.000000</td>\n",
       "      <td>288.000000</td>\n",
       "      <td>288.000000</td>\n",
       "    </tr>\n",
       "    <tr>\n",
       "      <th>mean</th>\n",
       "      <td>54.479167</td>\n",
       "      <td>10000.0</td>\n",
       "      <td>131.315972</td>\n",
       "      <td>245.139706</td>\n",
       "      <td>0.145833</td>\n",
       "      <td>0.531250</td>\n",
       "      <td>149.611111</td>\n",
       "      <td>0.326389</td>\n",
       "      <td>1.049653</td>\n",
       "      <td>1.393103</td>\n",
       "      <td>0.725694</td>\n",
       "      <td>2.302083</td>\n",
       "      <td>1.972222</td>\n",
       "      <td>0.586806</td>\n",
       "      <td>0.940972</td>\n",
       "      <td>4176.658930</td>\n",
       "    </tr>\n",
       "    <tr>\n",
       "      <th>std</th>\n",
       "      <td>9.137333</td>\n",
       "      <td>0.0</td>\n",
       "      <td>17.476938</td>\n",
       "      <td>52.985157</td>\n",
       "      <td>0.353553</td>\n",
       "      <td>0.527035</td>\n",
       "      <td>22.782600</td>\n",
       "      <td>0.469708</td>\n",
       "      <td>1.164935</td>\n",
       "      <td>0.604343</td>\n",
       "      <td>1.024661</td>\n",
       "      <td>0.615476</td>\n",
       "      <td>0.219103</td>\n",
       "      <td>0.651532</td>\n",
       "      <td>1.001735</td>\n",
       "      <td>1988.789872</td>\n",
       "    </tr>\n",
       "    <tr>\n",
       "      <th>min</th>\n",
       "      <td>29.000000</td>\n",
       "      <td>10000.0</td>\n",
       "      <td>94.000000</td>\n",
       "      <td>126.000000</td>\n",
       "      <td>0.000000</td>\n",
       "      <td>0.000000</td>\n",
       "      <td>71.000000</td>\n",
       "      <td>0.000000</td>\n",
       "      <td>0.000000</td>\n",
       "      <td>0.000000</td>\n",
       "      <td>0.000000</td>\n",
       "      <td>0.000000</td>\n",
       "      <td>0.000000</td>\n",
       "      <td>0.000000</td>\n",
       "      <td>0.000000</td>\n",
       "      <td>653.415425</td>\n",
       "    </tr>\n",
       "    <tr>\n",
       "      <th>25%</th>\n",
       "      <td>47.000000</td>\n",
       "      <td>10000.0</td>\n",
       "      <td>120.000000</td>\n",
       "      <td>208.000000</td>\n",
       "      <td>0.000000</td>\n",
       "      <td>0.000000</td>\n",
       "      <td>133.750000</td>\n",
       "      <td>0.000000</td>\n",
       "      <td>0.000000</td>\n",
       "      <td>1.000000</td>\n",
       "      <td>0.000000</td>\n",
       "      <td>2.000000</td>\n",
       "      <td>2.000000</td>\n",
       "      <td>0.000000</td>\n",
       "      <td>0.000000</td>\n",
       "      <td>2671.229092</td>\n",
       "    </tr>\n",
       "    <tr>\n",
       "      <th>50%</th>\n",
       "      <td>56.000000</td>\n",
       "      <td>10000.0</td>\n",
       "      <td>130.000000</td>\n",
       "      <td>239.500000</td>\n",
       "      <td>0.000000</td>\n",
       "      <td>1.000000</td>\n",
       "      <td>152.500000</td>\n",
       "      <td>0.000000</td>\n",
       "      <td>0.800000</td>\n",
       "      <td>1.000000</td>\n",
       "      <td>0.000000</td>\n",
       "      <td>2.000000</td>\n",
       "      <td>2.000000</td>\n",
       "      <td>0.000000</td>\n",
       "      <td>1.000000</td>\n",
       "      <td>4222.567419</td>\n",
       "    </tr>\n",
       "    <tr>\n",
       "      <th>75%</th>\n",
       "      <td>61.000000</td>\n",
       "      <td>10000.0</td>\n",
       "      <td>140.000000</td>\n",
       "      <td>273.250000</td>\n",
       "      <td>0.000000</td>\n",
       "      <td>1.000000</td>\n",
       "      <td>166.250000</td>\n",
       "      <td>1.000000</td>\n",
       "      <td>1.600000</td>\n",
       "      <td>2.000000</td>\n",
       "      <td>1.000000</td>\n",
       "      <td>3.000000</td>\n",
       "      <td>2.000000</td>\n",
       "      <td>1.000000</td>\n",
       "      <td>2.000000</td>\n",
       "      <td>5885.708843</td>\n",
       "    </tr>\n",
       "    <tr>\n",
       "      <th>max</th>\n",
       "      <td>77.000000</td>\n",
       "      <td>10000.0</td>\n",
       "      <td>200.000000</td>\n",
       "      <td>564.000000</td>\n",
       "      <td>1.000000</td>\n",
       "      <td>2.000000</td>\n",
       "      <td>202.000000</td>\n",
       "      <td>1.000000</td>\n",
       "      <td>6.200000</td>\n",
       "      <td>2.000000</td>\n",
       "      <td>4.000000</td>\n",
       "      <td>3.000000</td>\n",
       "      <td>2.000000</td>\n",
       "      <td>2.000000</td>\n",
       "      <td>3.000000</td>\n",
       "      <td>7389.481550</td>\n",
       "    </tr>\n",
       "  </tbody>\n",
       "</table>\n",
       "</div>"
      ],
      "text/plain": [
       "              age       cp    trestbps        chol         fbs     restecg  \\\n",
       "count  288.000000    288.0  288.000000  272.000000  288.000000  288.000000   \n",
       "mean    54.479167  10000.0  131.315972  245.139706    0.145833    0.531250   \n",
       "std      9.137333      0.0   17.476938   52.985157    0.353553    0.527035   \n",
       "min     29.000000  10000.0   94.000000  126.000000    0.000000    0.000000   \n",
       "25%     47.000000  10000.0  120.000000  208.000000    0.000000    0.000000   \n",
       "50%     56.000000  10000.0  130.000000  239.500000    0.000000    1.000000   \n",
       "75%     61.000000  10000.0  140.000000  273.250000    0.000000    1.000000   \n",
       "max     77.000000  10000.0  200.000000  564.000000    1.000000    2.000000   \n",
       "\n",
       "          thalach       exang     oldpeak       slope          ca        thal  \\\n",
       "count  288.000000  288.000000  288.000000  145.000000  288.000000  288.000000   \n",
       "mean   149.611111    0.326389    1.049653    1.393103    0.725694    2.302083   \n",
       "std     22.782600    0.469708    1.164935    0.604343    1.024661    0.615476   \n",
       "min     71.000000    0.000000    0.000000    0.000000    0.000000    0.000000   \n",
       "25%    133.750000    0.000000    0.000000    1.000000    0.000000    2.000000   \n",
       "50%    152.500000    0.000000    0.800000    1.000000    0.000000    2.000000   \n",
       "75%    166.250000    1.000000    1.600000    2.000000    1.000000    3.000000   \n",
       "max    202.000000    1.000000    6.200000    2.000000    4.000000    3.000000   \n",
       "\n",
       "              nar          hc          sk          trf  \n",
       "count  288.000000  288.000000  288.000000   288.000000  \n",
       "mean     1.972222    0.586806    0.940972  4176.658930  \n",
       "std      0.219103    0.651532    1.001735  1988.789872  \n",
       "min      0.000000    0.000000    0.000000   653.415425  \n",
       "25%      2.000000    0.000000    0.000000  2671.229092  \n",
       "50%      2.000000    0.000000    1.000000  4222.567419  \n",
       "75%      2.000000    1.000000    2.000000  5885.708843  \n",
       "max      2.000000    2.000000    3.000000  7389.481550  "
      ]
     },
     "execution_count": 4,
     "metadata": {},
     "output_type": "execute_result"
    }
   ],
   "source": [
    "df.describe()"
   ]
  },
  {
   "cell_type": "markdown",
   "id": "silent-discount",
   "metadata": {},
   "source": [
    "This method returns distribution statistics on the numerical features. Some insights:\n",
    "\n",
    "- Some categorical features are being treated as numerical, but the quantile information returned above might help to find some potential inconsistency in those data. I found nothing of the sort.\n",
    "- No negative values, which was expected for these features.\n",
    "- The binary features are also consistent.\n",
    "- `cp` has no standard deviation, which means all values are equal. Features like that are not useful in a classification model, therefore I decide here to drop this one.\n",
    "- I found nothing abnormal with the numerical features that are familiar to me. `age`, `trestbps`, `chol` and `trf` are within reasonable bounds, this last one considering that a day is 84,600 seconds long. `thalach` does also seem fine; even though 71 bpm might be low to a 'maximum heart rate', I will by now just keep that in mind for further analysis.\n",
    "- First I suspected that `slope`, being a measure of, well, slope, should be continuous, but some research told me that it is usually reported as 'flat', 'upsloping' or 'downsloping', which conforms to the values reported, 0, 1 or 2. Therefore, it should be treated as categorical.\n",
    "- The maximum value for `ca` is 4, but both from the documentation and research I found that it should be 3.\n",
    "- `thal` is also documented as a value of 3, 6 or 7, but that is not the case."
   ]
  },
  {
   "cell_type": "code",
   "execution_count": 5,
   "id": "hollow-fabric",
   "metadata": {},
   "outputs": [
    {
     "name": "stdout",
     "output_type": "stream",
     "text": [
      "<class 'pandas.core.frame.DataFrame'>\n",
      "Int64Index: 288 entries, 0 to 287\n",
      "Data columns (total 17 columns):\n",
      " #   Column    Non-Null Count  Dtype  \n",
      "---  ------    --------------  -----  \n",
      " 0   age       288 non-null    int64  \n",
      " 1   sex       288 non-null    object \n",
      " 2   cp        288 non-null    int64  \n",
      " 3   trestbps  288 non-null    int64  \n",
      " 4   chol      272 non-null    float64\n",
      " 5   fbs       288 non-null    int64  \n",
      " 6   restecg   288 non-null    int64  \n",
      " 7   thalach   288 non-null    int64  \n",
      " 8   exang     288 non-null    int64  \n",
      " 9   oldpeak   288 non-null    float64\n",
      " 10  slope     145 non-null    float64\n",
      " 11  ca        288 non-null    int64  \n",
      " 12  thal      288 non-null    int64  \n",
      " 13  nar       288 non-null    int64  \n",
      " 14  hc        288 non-null    int64  \n",
      " 15  sk        288 non-null    int64  \n",
      " 16  trf       288 non-null    float64\n",
      "dtypes: float64(4), int64(12), object(1)\n",
      "memory usage: 40.5+ KB\n"
     ]
    }
   ],
   "source": [
    "df.info()"
   ]
  },
  {
   "cell_type": "markdown",
   "id": "associate-gateway",
   "metadata": {},
   "source": [
    "The main information here is that `chol` and `slope` have missing values; `slope` is missing around 50% of instances.\n",
    "\n",
    "Now I will check how many instances are there for each target class."
   ]
  },
  {
   "cell_type": "code",
   "execution_count": 6,
   "id": "biological-possibility",
   "metadata": {},
   "outputs": [
    {
     "data": {
      "text/plain": [
       "F    194\n",
       "M     91\n",
       "f      2\n",
       "m      1\n",
       "Name: sex, dtype: int64"
      ]
     },
     "execution_count": 6,
     "metadata": {},
     "output_type": "execute_result"
    }
   ],
   "source": [
    "df['sex'].value_counts()"
   ]
  },
  {
   "cell_type": "markdown",
   "id": "processed-duration",
   "metadata": {},
   "source": [
    "This showed me that this feature is inconsistently reported. I will standardize that sex should be given in uppercase."
   ]
  },
  {
   "cell_type": "code",
   "execution_count": 7,
   "id": "studied-torture",
   "metadata": {},
   "outputs": [],
   "source": [
    "df['sex'] = df['sex'].map(lambda x: x.upper())"
   ]
  },
  {
   "cell_type": "markdown",
   "id": "russian-maria",
   "metadata": {},
   "source": [
    "Then let me check the counts again, but expressed as proportion."
   ]
  },
  {
   "cell_type": "code",
   "execution_count": 8,
   "id": "amateur-snake",
   "metadata": {},
   "outputs": [
    {
     "data": {
      "text/plain": [
       "F    0.680556\n",
       "M    0.319444\n",
       "Name: sex, dtype: float64"
      ]
     },
     "execution_count": 8,
     "metadata": {},
     "output_type": "execute_result"
    }
   ],
   "source": [
    "df['sex'].value_counts(normalize = True)"
   ]
  },
  {
   "cell_type": "markdown",
   "id": "affiliated-simple",
   "metadata": {},
   "source": [
    "This reveals that the dataset in unbalanced, being females the majority. This in turns tells me that, first, I must consider the unbalance for splitting strategies and, potentially, evaluation metrics. Second, the proportion values indicates that the baseline accuracy of the simplest model is 68%, so any other model should outperform this."
   ]
  },
  {
   "cell_type": "markdown",
   "id": "fourth-comparative",
   "metadata": {},
   "source": [
    "### Analysis of numerical and categorical features\n",
    "\n",
    "Now I will check some distribution plots for the features, according to their numerical or categorical nature."
   ]
  },
  {
   "cell_type": "markdown",
   "id": "fallen-hazard",
   "metadata": {},
   "source": [
    "*Defining a function to plot a histogram and a boxplot for the numerical features*\n",
    "\n",
    "This analysis will drop missing values - I know already that only `chol` applies -, then split the data by sex, and plot both subsets separately. The histogram will report densities, not counts, to account for the unbalance in sex counts."
   ]
  },
  {
   "cell_type": "code",
   "execution_count": 9,
   "id": "european-intent",
   "metadata": {},
   "outputs": [],
   "source": [
    "def plot_stats_numerical(feature):\n",
    "    df_temp = df[feature].dropna()\n",
    "    df_temp_M = df_temp[df.sex == 'M']\n",
    "    df_temp_F = df_temp[df.sex == 'F']\n",
    "    fig, ax = plt.subplots(1, 2)\n",
    "    fig.suptitle(feature)\n",
    "    ax[0].hist(df_temp_M, density = True, alpha = 0.5, label = 'M', color = 'blue')\n",
    "    ax[0].hist(df_temp_F, density = True, alpha = 0.5, label = 'F', color = 'red')\n",
    "    ax[0].legend()\n",
    "    ax[1].boxplot([df_temp_M, df_temp_F], labels = ['M', 'F'])\n",
    "    plt.show()"
   ]
  },
  {
   "cell_type": "code",
   "execution_count": 10,
   "id": "dental-massachusetts",
   "metadata": {},
   "outputs": [
    {
     "data": {
      "image/png": "[encoded data removed]",
      "text/plain": [
       "<Figure size 432x288 with 2 Axes>"
      ]
     },
     "metadata": {
      "needs_background": "light"
     },
     "output_type": "display_data"
    }
   ],
   "source": [
    "plot_stats_numerical('age')"
   ]
  },
  {
   "cell_type": "markdown",
   "id": "shared-evening",
   "metadata": {},
   "source": [
    "The age distributions are very similar. The age span for females is a little broader in the young side, but that might be due to the larger female cohort.\n",
    "\n",
    "I did wonder if age was a useful sex predictor, and decided in that favor based on two reasons: females tend to live longer, and the distribution plots show that there is some difference in this population. If the model is to be applied to this same population, age is expected to be helpful."
   ]
  },
  {
   "cell_type": "code",
   "execution_count": 11,
   "id": "adapted-certification",
   "metadata": {},
   "outputs": [
    {
     "data": {
      "image/png": "[encoded data removed]",
      "text/plain": [
       "<Figure size 432x288 with 2 Axes>"
      ]
     },
     "metadata": {
      "needs_background": "light"
     },
     "output_type": "display_data"
    }
   ],
   "source": [
    "plot_stats_numerical('trestbps')"
   ]
  },
  {
   "cell_type": "markdown",
   "id": "stylish-present",
   "metadata": {},
   "source": [
    "The distributions are again very similar, including the medians. Males have a few more outliers, with one farther off. The ten largest values in the male subset are given below. The largest value does seem to be atypical."
   ]
  },
  {
   "cell_type": "code",
   "execution_count": 12,
   "id": "straight-throat",
   "metadata": {},
   "outputs": [
    {
     "data": {
      "text/plain": [
       "[200, 180, 180, 178, 174, 170, 160, 160, 160, 160]"
      ]
     },
     "execution_count": 12,
     "metadata": {},
     "output_type": "execute_result"
    }
   ],
   "source": [
    "sorted(df['trestbps'][df.sex == \"M\"])[::-1][:10]"
   ]
  },
  {
   "cell_type": "code",
   "execution_count": 13,
   "id": "false-dodge",
   "metadata": {},
   "outputs": [
    {
     "data": {
      "image/png": "[encoded data removed]",
      "text/plain": [
       "<Figure size 432x288 with 2 Axes>"
      ]
     },
     "metadata": {
      "needs_background": "light"
     },
     "output_type": "display_data"
    }
   ],
   "source": [
    "plot_stats_numerical('chol')"
   ]
  },
  {
   "cell_type": "markdown",
   "id": "confirmed-least",
   "metadata": {},
   "source": [
    "The male distribution is more spread, with one pronounced outlier. The male median is also higher. \n",
    "\n",
    "Checking the ten largest male values, and confirming the presence of a single outlier."
   ]
  },
  {
   "cell_type": "code",
   "execution_count": 14,
   "id": "alike-greeting",
   "metadata": {},
   "outputs": [
    {
     "data": {
      "text/plain": [
       "[564.0, 417.0, 409.0, 407.0, 394.0, 360.0, 354.0, 342.0, 341.0, 340.0]"
      ]
     },
     "execution_count": 14,
     "metadata": {},
     "output_type": "execute_result"
    }
   ],
   "source": [
    "sorted(df['chol'].dropna()[df.sex == \"M\"])[::-1][:10]"
   ]
  },
  {
   "cell_type": "markdown",
   "id": "suspended-journey",
   "metadata": {},
   "source": [
    "Since there are missing values in `chol`, let me check its segmentation by sex."
   ]
  },
  {
   "cell_type": "code",
   "execution_count": 15,
   "id": "active-morris",
   "metadata": {},
   "outputs": [
    {
     "data": {
      "text/plain": [
       "F    15\n",
       "M     1\n",
       "Name: sex, dtype: int64"
      ]
     },
     "execution_count": 15,
     "metadata": {},
     "output_type": "execute_result"
    }
   ],
   "source": [
    "df['sex'][df.chol.isna()].value_counts()"
   ]
  },
  {
   "cell_type": "markdown",
   "id": "opposed-quality",
   "metadata": {},
   "source": [
    "Interestingly, 15 from the 16 missing values are from females. If I knew that the final model would be applied to predict sex from new datasets that might also be incomplete, I would be willing to create a new feature to inform the model if `chol` is missing, as it seems to be very informative of the sex of the individual. In the current case, though, I will assume new datasets are complete for this feature, and not use this information."
   ]
  },
  {
   "cell_type": "code",
   "execution_count": 16,
   "id": "multiple-danger",
   "metadata": {},
   "outputs": [
    {
     "data": {
      "image/png": "[encoded data removed]",
      "text/plain": [
       "<Figure size 432x288 with 2 Axes>"
      ]
     },
     "metadata": {
      "needs_background": "light"
     },
     "output_type": "display_data"
    }
   ],
   "source": [
    "plot_stats_numerical('thalach')"
   ]
  },
  {
   "cell_type": "markdown",
   "id": "unsigned-hundred",
   "metadata": {},
   "source": [
    "The female distribution is more spread. Both sexes have a few outliers. Here I become a little suspicious of the 71 bpm heartrate reported for one female, as it is a sole outlier.\n",
    "\n",
    "Smallest values for the male and female groups:"
   ]
  },
  {
   "cell_type": "code",
   "execution_count": 17,
   "id": "anonymous-sending",
   "metadata": {},
   "outputs": [
    {
     "name": "stdout",
     "output_type": "stream",
     "text": [
      "MALE: [96, 97, 106, 114, 114, 115, 115, 116, 117, 121] \n",
      "FEMALE: [71, 88, 90, 95, 96, 99, 103, 105, 105, 105]\n"
     ]
    }
   ],
   "source": [
    "print('MALE:', sorted(df['thalach'][df.sex == \"M\"])[:10], '\\nFEMALE:', sorted(df['thalach'][df.sex == \"F\"])[:10])"
   ]
  },
  {
   "cell_type": "code",
   "execution_count": 18,
   "id": "junior-twenty",
   "metadata": {},
   "outputs": [
    {
     "data": {
      "image/png": "[encoded data removed]",
      "text/plain": [
       "<Figure size 432x288 with 2 Axes>"
      ]
     },
     "metadata": {
      "needs_background": "light"
     },
     "output_type": "display_data"
    }
   ],
   "source": [
    "plot_stats_numerical('oldpeak')"
   ]
  },
  {
   "cell_type": "markdown",
   "id": "pregnant-retention",
   "metadata": {},
   "source": [
    "Again the female distribution is more spread, showing also a slightly larger median. Outliers are present on both groups."
   ]
  },
  {
   "cell_type": "code",
   "execution_count": 19,
   "id": "three-union",
   "metadata": {},
   "outputs": [
    {
     "name": "stdout",
     "output_type": "stream",
     "text": [
      "MALE: [6.2, 4.0, 4.0, 3.6, 3.4, 3.0, 2.8, 2.6, 2.0, 2.0] \n",
      "FEMALE: [5.6, 4.4, 4.2, 4.2, 4.0, 3.8, 3.6, 3.6, 3.6, 3.5]\n"
     ]
    }
   ],
   "source": [
    "print('MALE:', sorted(df['oldpeak'][df.sex == \"M\"])[::-1][:10], '\\nFEMALE:', sorted(df['oldpeak'][df.sex == \"F\"])[::-1][:10])"
   ]
  },
  {
   "cell_type": "code",
   "execution_count": 20,
   "id": "helpful-uncle",
   "metadata": {},
   "outputs": [
    {
     "data": {
      "image/png": "[encoded data removed]",
      "text/plain": [
       "<Figure size 432x288 with 2 Axes>"
      ]
     },
     "metadata": {
      "needs_background": "light"
     },
     "output_type": "display_data"
    }
   ],
   "source": [
    "plot_stats_numerical('trf')"
   ]
  },
  {
   "cell_type": "markdown",
   "id": "functioning-findings",
   "metadata": {},
   "source": [
    "The lower and upper bounds of both distributions are practically equal, and in general they seem to be somewhat uniformly distributed, but the female distribution is slightly skewed to the right."
   ]
  },
  {
   "cell_type": "markdown",
   "id": "rapid-saudi",
   "metadata": {},
   "source": [
    "*Defining a function to plot a barplot of the categorical features*\n",
    "\n",
    "Here I am choosing to keep missing values - again, I know only `slope` is the case -, because I can analyze them as a single category. As with the numerical features, I am also normalizing the data to report proportions instead of absolute counts."
   ]
  },
  {
   "cell_type": "code",
   "execution_count": 21,
   "id": "optional-fabric",
   "metadata": {},
   "outputs": [],
   "source": [
    "def plot_stats_categorical(feature):\n",
    "    df_temp = df.groupby('sex')[feature].value_counts(normalize = True, dropna = False).rename('proportion').reset_index()\n",
    "    df_temp[feature][df_temp[feature].isna()] = 'NA'\n",
    "    sns.barplot(x = 'sex', y = 'proportion', hue = feature, data = df_temp)\n",
    "    plt.title(feature)\n",
    "    plt.show()"
   ]
  },
  {
   "cell_type": "code",
   "execution_count": 22,
   "id": "threatened-prescription",
   "metadata": {},
   "outputs": [
    {
     "data": {
      "image/png": "[encoded data removed]",
      "text/plain": [
       "<Figure size 432x288 with 1 Axes>"
      ]
     },
     "metadata": {
      "needs_background": "light"
     },
     "output_type": "display_data"
    }
   ],
   "source": [
    "plot_stats_categorical('fbs')"
   ]
  },
  {
   "cell_type": "markdown",
   "id": "linear-laser",
   "metadata": {},
   "source": [
    "The difference is minimal, I would assume this feature is not helpful in the classification task."
   ]
  },
  {
   "cell_type": "code",
   "execution_count": 23,
   "id": "pretty-component",
   "metadata": {},
   "outputs": [
    {
     "data": {
      "image/png": "[encoded data removed]",
      "text/plain": [
       "<Figure size 432x288 with 1 Axes>"
      ]
     },
     "metadata": {
      "needs_background": "light"
     },
     "output_type": "display_data"
    }
   ],
   "source": [
    "plot_stats_categorical('restecg')"
   ]
  },
  {
   "cell_type": "markdown",
   "id": "stock-swift",
   "metadata": {},
   "source": [
    "There is a small relative difference in class 0, and a larger relative difference in class 2."
   ]
  },
  {
   "cell_type": "code",
   "execution_count": 24,
   "id": "pediatric-nightmare",
   "metadata": {},
   "outputs": [
    {
     "data": {
      "image/png": "[encoded data removed]",
      "text/plain": [
       "<Figure size 432x288 with 1 Axes>"
      ]
     },
     "metadata": {
      "needs_background": "light"
     },
     "output_type": "display_data"
    }
   ],
   "source": [
    "plot_stats_categorical('exang')"
   ]
  },
  {
   "cell_type": "markdown",
   "id": "respective-pointer",
   "metadata": {},
   "source": [
    "Males have a larger proportion of individuals on class 0."
   ]
  },
  {
   "cell_type": "code",
   "execution_count": 25,
   "id": "divided-hearing",
   "metadata": {},
   "outputs": [
    {
     "data": {
      "image/png": "[encoded data removed]",
      "text/plain": [
       "<Figure size 432x288 with 1 Axes>"
      ]
     },
     "metadata": {
      "needs_background": "light"
     },
     "output_type": "display_data"
    }
   ],
   "source": [
    "plot_stats_categorical('slope')"
   ]
  },
  {
   "cell_type": "markdown",
   "id": "binding-murder",
   "metadata": {},
   "source": [
    "There are differences in all three classes, but the proportion of missing values is quite high, surpassing 50% in the case of males."
   ]
  },
  {
   "cell_type": "code",
   "execution_count": 26,
   "id": "adult-status",
   "metadata": {},
   "outputs": [
    {
     "data": {
      "image/png": "[encoded data removed]",
      "text/plain": [
       "<Figure size 432x288 with 1 Axes>"
      ]
     },
     "metadata": {
      "needs_background": "light"
     },
     "output_type": "display_data"
    }
   ],
   "source": [
    "plot_stats_categorical('ca')"
   ]
  },
  {
   "cell_type": "markdown",
   "id": "accomplished-purple",
   "metadata": {},
   "source": [
    "The profiles are quite different. Let me check how many individuals have the abnormal value of 4."
   ]
  },
  {
   "cell_type": "code",
   "execution_count": 27,
   "id": "genetic-opportunity",
   "metadata": {},
   "outputs": [
    {
     "data": {
      "text/plain": [
       "sex  ca\n",
       "F    0     105\n",
       "     1      48\n",
       "     2      23\n",
       "     3      15\n",
       "     4       5\n",
       "M    0      62\n",
       "     1      14\n",
       "     2      12\n",
       "     3       4\n",
       "Name: ca, dtype: int64"
      ]
     },
     "execution_count": 27,
     "metadata": {},
     "output_type": "execute_result"
    }
   ],
   "source": [
    "df.groupby('sex')['ca'].value_counts()"
   ]
  },
  {
   "cell_type": "markdown",
   "id": "wired-roman",
   "metadata": {},
   "source": [
    "5 females. That is quite intriguing, since, if this was a typo for example, I would not expect it to be present in more than a few cases."
   ]
  },
  {
   "cell_type": "code",
   "execution_count": 28,
   "id": "dressed-helmet",
   "metadata": {},
   "outputs": [
    {
     "data": {
      "image/png": "[encoded data removed]",
      "text/plain": [
       "<Figure size 432x288 with 1 Axes>"
      ]
     },
     "metadata": {
      "needs_background": "light"
     },
     "output_type": "display_data"
    }
   ],
   "source": [
    "plot_stats_categorical('thal')"
   ]
  },
  {
   "cell_type": "markdown",
   "id": "insured-cleaners",
   "metadata": {},
   "source": [
    "This seems to be the categorical feature with the largest differences between sexes. Nonetheless, once again there is a conflict with the documentation, according which this feature should have values of 3, 6 or 7, relating to three possible categories."
   ]
  },
  {
   "cell_type": "code",
   "execution_count": 29,
   "id": "fancy-charge",
   "metadata": {},
   "outputs": [
    {
     "data": {
      "image/png": "[encoded data removed]",
      "text/plain": [
       "<Figure size 432x288 with 1 Axes>"
      ]
     },
     "metadata": {
      "needs_background": "light"
     },
     "output_type": "display_data"
    }
   ],
   "source": [
    "plot_stats_categorical('nar')"
   ]
  },
  {
   "cell_type": "markdown",
   "id": "fatal-wildlife",
   "metadata": {},
   "source": [
    "Most people have 2 arms (hooray!), but the proportion of one-armed and armless men is larger. I suspect this is because men are usually more involved with dangerous activities."
   ]
  },
  {
   "cell_type": "code",
   "execution_count": 30,
   "id": "auburn-earthquake",
   "metadata": {},
   "outputs": [
    {
     "data": {
      "image/png": "[encoded data removed]",
      "text/plain": [
       "<Figure size 432x288 with 1 Axes>"
      ]
     },
     "metadata": {
      "needs_background": "light"
     },
     "output_type": "display_data"
    }
   ],
   "source": [
    "plot_stats_categorical('hc')"
   ]
  },
  {
   "cell_type": "markdown",
   "id": "cultural-reference",
   "metadata": {},
   "source": [
    "I found this very striking, I would not suspect such a large difference in hair color. I suspect this is a characteristic of the community from which these individuals were gathered, or dyed hair color is being reported, and females tend to dye their hair more often."
   ]
  },
  {
   "cell_type": "code",
   "execution_count": 31,
   "id": "greater-plain",
   "metadata": {},
   "outputs": [
    {
     "data": {
      "image/png": "[encoded data removed]",
      "text/plain": [
       "<Figure size 432x288 with 1 Axes>"
      ]
     },
     "metadata": {
      "needs_background": "light"
     },
     "output_type": "display_data"
    }
   ],
   "source": [
    "plot_stats_categorical('sk')"
   ]
  },
  {
   "cell_type": "markdown",
   "id": "victorian-throat",
   "metadata": {},
   "source": [
    "Not such a large difference as in hair color, yet the profiles are different enough to aid a classification model. This quite surely reflects the underlying community."
   ]
  },
  {
   "cell_type": "markdown",
   "id": "prostate-outreach",
   "metadata": {},
   "source": [
    "## Data cleaning\n",
    "\n",
    "First off, since there are not many data instances, I will avoid dropping values, choosing instead to impute or correct them when necessary.\n",
    "\n",
    "Creating a copy of the original dataframe for the cleaning procedure."
   ]
  },
  {
   "cell_type": "code",
   "execution_count": 32,
   "id": "changed-guatemala",
   "metadata": {},
   "outputs": [],
   "source": [
    "df_clean = df.copy()"
   ]
  },
  {
   "cell_type": "markdown",
   "id": "nutritional-nepal",
   "metadata": {},
   "source": [
    "### Numerical features\n",
    "\n",
    "The numerical features present two issues worth considering: outliers (from several) and missing values (from `chol`).\n",
    "\n",
    "#### Outliers\n",
    "\n",
    "First off, I will consider outliers those values shown as such in the boxplots. \n",
    "\n",
    "I can deal with outliers with two approaches: I can consider them to be natural deviations from the underlying distribution (occasionally even creating a new feature identifying the outliers), and keep them as such, or I can consider them to be anomalous data, and correct them. The decision shoud rely on proper research on each of the features, but given the time constraint, I will apply some common sense. \n",
    "\n",
    "The outliers will be dealt with in a case-by-case fashion.\n",
    "\n",
    "`trestbps`: I believe some outliers to be expected, as 'high blood pressure' is a common situation. Nonetheless, one value in the male cohort is quite extreme. I will cap this feature to the second largest value in the male group, as even if not the best solution, this will not affect much the underlying distribution."
   ]
  },
  {
   "cell_type": "code",
   "execution_count": 33,
   "id": "governmental-litigation",
   "metadata": {},
   "outputs": [],
   "source": [
    "df_clean['trestbps'][np.argmax(df_clean['trestbps'])] = sorted(df_clean['trestbps'][df_clean.sex == 'M'])[::-1][1]"
   ]
  },
  {
   "cell_type": "markdown",
   "id": "modified-error",
   "metadata": {},
   "source": [
    "`chol`: The one outlier seems to be erroneous, therefore I will also cap this variable the same way I did above."
   ]
  },
  {
   "cell_type": "code",
   "execution_count": 34,
   "id": "raised-austin",
   "metadata": {},
   "outputs": [],
   "source": [
    "df_clean['chol'][np.argmax(df_clean['chol'])] = sorted(df_clean['chol'][df_clean.sex == 'M'])[::-1][1]"
   ]
  },
  {
   "cell_type": "markdown",
   "id": "cleared-concept",
   "metadata": {},
   "source": [
    "`thalach`: There are two outliers in the male group, but they have approximately the same value, which points to their veracity, therefore I choose to keep them. The outlier in the female group is both more extreme and solitary, so I will cap it to the second lowest value in this group."
   ]
  },
  {
   "cell_type": "code",
   "execution_count": 35,
   "id": "statewide-planner",
   "metadata": {},
   "outputs": [],
   "source": [
    "df_clean['thalach'][np.argmin(df_clean['thalach'])] = sorted(df_clean['chol'][df_clean.sex == 'F'])[1]"
   ]
  },
  {
   "cell_type": "markdown",
   "id": "indie-vegetation",
   "metadata": {},
   "source": [
    "`oldpeak`: Both groups have outliers, but the female group is right skewed to begin with, therefore I will let it be. The largest value in the male group will be capped as above."
   ]
  },
  {
   "cell_type": "code",
   "execution_count": 36,
   "id": "interstate-element",
   "metadata": {},
   "outputs": [],
   "source": [
    "df_clean['oldpeak'][np.argmax(df_clean['oldpeak'])] = sorted(df_clean['oldpeak'][df_clean.sex == 'M'])[::-1][1]"
   ]
  },
  {
   "cell_type": "markdown",
   "id": "otherwise-drilling",
   "metadata": {},
   "source": [
    "#### Missing values\n",
    "\n",
    "The missing values in `chol` will be imputed with the average within each group."
   ]
  },
  {
   "cell_type": "code",
   "execution_count": 37,
   "id": "buried-sympathy",
   "metadata": {},
   "outputs": [
    {
     "data": {
      "text/plain": [
       "(262.45054945054943, 236.4364640883978)"
      ]
     },
     "execution_count": 37,
     "metadata": {},
     "output_type": "execute_result"
    }
   ],
   "source": [
    "chol_avg_M = df[df.sex == 'M']['chol'].mean()\n",
    "chol_avg_F = df[df.sex == 'F']['chol'].mean()\n",
    "\n",
    "chol_avg_M, chol_avg_F"
   ]
  },
  {
   "cell_type": "code",
   "execution_count": 38,
   "id": "accepting-episode",
   "metadata": {},
   "outputs": [],
   "source": [
    "df_clean['chol'][df_clean.sex == 'M'] = df_clean['chol'][df_clean.sex == 'M'].fillna(chol_avg_M)\n",
    "df_clean['chol'][df_clean.sex == 'F'] = df_clean['chol'][df_clean.sex == 'F'].fillna(chol_avg_F)"
   ]
  },
  {
   "cell_type": "markdown",
   "id": "close-plain",
   "metadata": {},
   "source": [
    "---\n",
    "I will now instantiate a list with the names of the numerical features that I will be using in model design, which will be helpful later."
   ]
  },
  {
   "cell_type": "code",
   "execution_count": 39,
   "id": "aerial-bunny",
   "metadata": {},
   "outputs": [],
   "source": [
    "numerical = ['age', 'trestbps', 'chol', 'thalach', 'oldpeak', 'trf']"
   ]
  },
  {
   "cell_type": "markdown",
   "id": "equal-saturn",
   "metadata": {},
   "source": [
    "### Categorical features\n",
    "\n",
    "Most of these features deserve no commentary, with those with the largest difference in sex profile possibly aiding a classification model more. I will keep `fbs`, despite its apparent unimportance, because it may help to resolve ties. \n",
    "\n",
    "Additional comments on:\n",
    "\n",
    "`slope`: despite the large proportion of missing values, I will keep it with a 'missing' category, as the other values are potentially useful."
   ]
  },
  {
   "cell_type": "code",
   "execution_count": 40,
   "id": "documentary-affiliate",
   "metadata": {},
   "outputs": [],
   "source": [
    "df_clean['slope'] = df_clean['slope'].fillna('missing')"
   ]
  },
  {
   "cell_type": "markdown",
   "id": "swiss-elevation",
   "metadata": {},
   "source": [
    "`ca`: The value 4 does not conform the documentation nor the research on this feature. Nonetheless, there is a very similar feature called 'number of major vessels with >50% narrowing', which accepts the value 4. Given the similarity in name, and that there are 5 instances of this value, I will let this feature in.\n",
    "\n",
    "`thal`: The reported values have no clear relationship with the documentation. Even though the frequency plot suggests that it is useful for this classification task, I have no reason to believe that this feature is not spurious. It breaks my heart, but I will drop it.\n",
    "\n",
    "`hc` and `sk`: A priori, I would drop these features as irrelevant, as there is no reason to assume a relationship between hair or skin color and sex, but given the differences described above, I will assume that the population analyzed is efficiently described by these features, and keep them.\n",
    "\n",
    "---\n",
    "Instantiating a list with the names of the categorical features to be brought along to model design:"
   ]
  },
  {
   "cell_type": "code",
   "execution_count": 41,
   "id": "australian-escape",
   "metadata": {},
   "outputs": [],
   "source": [
    "categorical = ['fbs', 'restecg', 'exang', 'slope', 'ca', 'nar', 'hc', 'sk']"
   ]
  },
  {
   "cell_type": "markdown",
   "id": "demonstrated-counter",
   "metadata": {},
   "source": [
    "## Data preprocessing\n",
    "\n",
    "Now that the the dataset is clean and trimmed, I will split it into the numerical and categorical features for the corresponding preprocessing."
   ]
  },
  {
   "cell_type": "code",
   "execution_count": 42,
   "id": "intellectual-archive",
   "metadata": {},
   "outputs": [],
   "source": [
    "df_clean_numerical = df_clean[numerical]\n",
    "df_clean_categorical = df_clean[categorical]"
   ]
  },
  {
   "cell_type": "markdown",
   "id": "adverse-parking",
   "metadata": {},
   "source": [
    "### Numerical features\n",
    "\n",
    "These features should be scaled to eliminate the effect of order of magnitude. Since the categorical features will be expressed as 0 or 1, I will chose the MinMaxScaler method."
   ]
  },
  {
   "cell_type": "code",
   "execution_count": 43,
   "id": "working-genealogy",
   "metadata": {},
   "outputs": [],
   "source": [
    "scaler = MinMaxScaler()\n",
    "df_clean_numerical_values = scaler.fit_transform(df_clean_numerical)"
   ]
  },
  {
   "cell_type": "markdown",
   "id": "surprising-demonstration",
   "metadata": {},
   "source": [
    "### Categorical features\n",
    "\n",
    "First, some of these features are expressed as integers, I need to convert them to strings."
   ]
  },
  {
   "cell_type": "code",
   "execution_count": 44,
   "id": "expired-league",
   "metadata": {},
   "outputs": [],
   "source": [
    "df_clean_categorical = df_clean_categorical.applymap(str)"
   ]
  },
  {
   "cell_type": "markdown",
   "id": "superior-incident",
   "metadata": {},
   "source": [
    "Now I will transform this dataframe to its one-hot encoded version."
   ]
  },
  {
   "cell_type": "code",
   "execution_count": 45,
   "id": "assisted-audience",
   "metadata": {},
   "outputs": [],
   "source": [
    "encoder = OneHotEncoder()\n",
    "df_clean_categorical_values = np.asarray(encoder.fit_transform(df_clean_categorical).todense())"
   ]
  },
  {
   "cell_type": "markdown",
   "id": "latest-stamp",
   "metadata": {},
   "source": [
    "### Bringing them back together\n",
    "\n",
    "I now can concatenate them all in a single array."
   ]
  },
  {
   "cell_type": "code",
   "execution_count": 46,
   "id": "quick-sample",
   "metadata": {},
   "outputs": [
    {
     "data": {
      "text/plain": [
       "(288, 32)"
      ]
     },
     "execution_count": 46,
     "metadata": {},
     "output_type": "execute_result"
    }
   ],
   "source": [
    "X = np.concatenate([df_clean_numerical_values, df_clean_categorical_values], axis = 1)\n",
    "X.shape"
   ]
  },
  {
   "cell_type": "markdown",
   "id": "divine-italian",
   "metadata": {},
   "source": [
    "The resulting array has all 288 instances of data, now presented as 32 features.\n",
    "\n",
    "I will also keep the target feature in a new variable."
   ]
  },
  {
   "cell_type": "code",
   "execution_count": 47,
   "id": "generic-chester",
   "metadata": {},
   "outputs": [],
   "source": [
    "y = df_clean['sex'].values"
   ]
  },
  {
   "cell_type": "markdown",
   "id": "minimal-particle",
   "metadata": {},
   "source": [
    "## Model design\n",
    "\n",
    "### Model type\n",
    "\n",
    "I will first fit five types of model to the data, covering different mathematical bases: two linear models (logistic regression and SVM), two decision trees (standard decision tree and a gradient boosting classifier), and one neural network. All models will be implemented with the Scikit-Learn package, initially with standard parameters. My aim here is to find out if any model type is particularly efficient for this classification task.\n",
    "\n",
    "The models will be evaluated based on their accuracy, and the evaluation approach will be that of using 10 folds in a cross-validation fashion.\n",
    "\n",
    "Here I am implementing a stratified splitting strategy to deal with the unbalanced dataset."
   ]
  },
  {
   "cell_type": "code",
   "execution_count": 48,
   "id": "naughty-spouse",
   "metadata": {},
   "outputs": [],
   "source": [
    "splitter = StratifiedKFold(n_splits = 10, random_state = 42)\n",
    "\n",
    "models = {\n",
    "    'LR': LogisticRegression(),\n",
    "    'SVC': SVC(),\n",
    "    'DecisionTree': DecisionTreeClassifier(),\n",
    "    'GradientBoosting': GradientBoostingClassifier(),\n",
    "    'NeuralNetwork': MLPClassifier()\n",
    "}\n",
    "\n",
    "results_df = pd.DataFrame([])\n",
    "for i, (model_name, model) in enumerate(models.items()):\n",
    "    \n",
    "    np.random.seed(42)\n",
    "    \n",
    "    results = cross_val_score(model, X, y, cv = splitter)\n",
    "    \n",
    "    results_model = pd.DataFrame({\n",
    "        'model': model_name,\n",
    "        'mean_accuracy': results.mean(),\n",
    "        'std_accuracy': results.std()\n",
    "    }, index = [i])\n",
    "    \n",
    "    results_df = results_df.append(results_model)"
   ]
  },
  {
   "cell_type": "code",
   "execution_count": 49,
   "id": "thirty-timothy",
   "metadata": {},
   "outputs": [
    {
     "data": {
      "text/html": [
       "<div>\n",
       "<style scoped>\n",
       "    .dataframe tbody tr th:only-of-type {\n",
       "        vertical-align: middle;\n",
       "    }\n",
       "\n",
       "    .dataframe tbody tr th {\n",
       "        vertical-align: top;\n",
       "    }\n",
       "\n",
       "    .dataframe thead th {\n",
       "        text-align: right;\n",
       "    }\n",
       "</style>\n",
       "<table border=\"1\" class=\"dataframe\">\n",
       "  <thead>\n",
       "    <tr style=\"text-align: right;\">\n",
       "      <th></th>\n",
       "      <th>model</th>\n",
       "      <th>mean_accuracy</th>\n",
       "      <th>std_accuracy</th>\n",
       "    </tr>\n",
       "  </thead>\n",
       "  <tbody>\n",
       "    <tr>\n",
       "      <th>0</th>\n",
       "      <td>LR</td>\n",
       "      <td>0.725616</td>\n",
       "      <td>0.076444</td>\n",
       "    </tr>\n",
       "    <tr>\n",
       "      <th>4</th>\n",
       "      <td>NeuralNetwork</td>\n",
       "      <td>0.722414</td>\n",
       "      <td>0.045092</td>\n",
       "    </tr>\n",
       "    <tr>\n",
       "      <th>1</th>\n",
       "      <td>SVC</td>\n",
       "      <td>0.718842</td>\n",
       "      <td>0.056037</td>\n",
       "    </tr>\n",
       "    <tr>\n",
       "      <th>3</th>\n",
       "      <td>GradientBoosting</td>\n",
       "      <td>0.687192</td>\n",
       "      <td>0.051395</td>\n",
       "    </tr>\n",
       "    <tr>\n",
       "      <th>2</th>\n",
       "      <td>DecisionTree</td>\n",
       "      <td>0.649754</td>\n",
       "      <td>0.077702</td>\n",
       "    </tr>\n",
       "  </tbody>\n",
       "</table>\n",
       "</div>"
      ],
      "text/plain": [
       "              model  mean_accuracy  std_accuracy\n",
       "0                LR       0.725616      0.076444\n",
       "4     NeuralNetwork       0.722414      0.045092\n",
       "1               SVC       0.718842      0.056037\n",
       "3  GradientBoosting       0.687192      0.051395\n",
       "2      DecisionTree       0.649754      0.077702"
      ]
     },
     "execution_count": 49,
     "metadata": {},
     "output_type": "execute_result"
    }
   ],
   "source": [
    "results_df.sort_values('mean_accuracy', ascending = False)"
   ]
  },
  {
   "cell_type": "markdown",
   "id": "split-manufacturer",
   "metadata": {},
   "source": [
    "The best model in this first investigation is a Logistic Regression, followed closely by a Neural Network and a classifier based on Support Vector Machines. The models based on trees were equal to or worse than the baseline.\n",
    "\n",
    "My first approach was to tune further the Neural Network, since it is quite as accurate as the Logistic Regression, but the smaller standard deviation tells me it is more generalizable. However, the performance did not improve with tuning iterations, and its final accuracy was practically the same as the baseline. So I turned to my second choice.\n",
    "\n",
    "For this challenge, I prefer SVC over LR, for two main reasons: the accuracy is not 1% lower while the standard deviation is 2% lower, and SVMs have some interesting parameters, like the kernel trick, that might improve the model in unexpected ways. Therefore, I decided to work further on refining this classifier."
   ]
  },
  {
   "cell_type": "markdown",
   "id": "biological-qatar",
   "metadata": {},
   "source": [
    "### Feature selection\n",
    "\n",
    "Now, I will check if using less than all features might be helpful. For this step, I will first classify the features according to their relative importance, as determined by an Extra Trees Classifier."
   ]
  },
  {
   "cell_type": "code",
   "execution_count": 50,
   "id": "published-necessity",
   "metadata": {},
   "outputs": [],
   "source": [
    "tree = ExtraTreesClassifier(random_state = 42)\n",
    "tree.fit(X, y)\n",
    "importance = tree.feature_importances_\n",
    "argsort = np.argsort(importance)[::-1]\n",
    "importance = importance[argsort]"
   ]
  },
  {
   "cell_type": "markdown",
   "id": "reliable-philip",
   "metadata": {},
   "source": [
    "The object `argsort` contains the index of the features ordered decreasingly according to their importances.\n",
    "\n",
    "Sometimes it is useful to inspect what those features are:"
   ]
  },
  {
   "cell_type": "code",
   "execution_count": 51,
   "id": "tight-tuning",
   "metadata": {},
   "outputs": [
    {
     "data": {
      "image/png": "[encoded data removed]",
      "text/plain": [
       "<Figure size 1080x576 with 1 Axes>"
      ]
     },
     "metadata": {
      "needs_background": "light"
     },
     "output_type": "display_data"
    }
   ],
   "source": [
    "# Retrieving the categorical features names (after one hot encoding)\n",
    "\n",
    "cat_features_names = [list(product([cat], cat_name)) for cat, cat_name in zip(categorical, encoder.categories_)]\n",
    "cat_features_names = [val for sublist in cat_features_names for val in sublist]\n",
    "cat_features_names = ['_'.join(x) for x in cat_features_names]\n",
    "\n",
    "# Concatenating numerical and categorical features names\n",
    "\n",
    "features_names = np.asarray(numerical + cat_features_names)\n",
    "\n",
    "# Ordering features names according to their importance\n",
    "\n",
    "features_names_sorted = list(features_names[argsort])\n",
    "\n",
    "# Plotting\n",
    "\n",
    "plt.figure(figsize = (15, 8));\n",
    "sns.barplot(x = importance, y = features_names_sorted);"
   ]
  },
  {
   "cell_type": "markdown",
   "id": "seeing-cuisine",
   "metadata": {},
   "source": [
    "`chol` is the most important feature, having around 9% of the overall discriminative power, followed by one category of `hc`, then several numerical features: `trestbps`, `thalach`, `trf`, `age` and `oldpeak`. The features lose discriminative power pronouncedly after `oldpeak`. `nar` is a very weak predictor, I suspect that is because the majority of people have 2 arms regardless of sex.\n",
    "\n",
    "Now that the features are ordered, I will pick from 1 to all ordered features to fit the SVC model again."
   ]
  },
  {
   "cell_type": "code",
   "execution_count": 52,
   "id": "double-talent",
   "metadata": {},
   "outputs": [],
   "source": [
    "results_df = pd.DataFrame([])\n",
    "for i in range(1, len(argsort) + 1):\n",
    "    X_sel = X[:, argsort[:i]]\n",
    "    model = SVC()\n",
    "    \n",
    "    results = cross_val_score(model, X_sel, y, cv = splitter)\n",
    "    \n",
    "    results_model = pd.DataFrame({\n",
    "        'num_feats': i,\n",
    "        'mean_accuracy': results.mean(),\n",
    "        'std_accuracy': results.std()\n",
    "    }, index = [i - 1])\n",
    "    \n",
    "    results_df = results_df.append(results_model)"
   ]
  },
  {
   "cell_type": "markdown",
   "id": "billion-argument",
   "metadata": {},
   "source": [
    "Visualizing the top 5 models and the performance evolution."
   ]
  },
  {
   "cell_type": "code",
   "execution_count": 53,
   "id": "known-jefferson",
   "metadata": {},
   "outputs": [
    {
     "data": {
      "text/html": [
       "<div>\n",
       "<style scoped>\n",
       "    .dataframe tbody tr th:only-of-type {\n",
       "        vertical-align: middle;\n",
       "    }\n",
       "\n",
       "    .dataframe tbody tr th {\n",
       "        vertical-align: top;\n",
       "    }\n",
       "\n",
       "    .dataframe thead th {\n",
       "        text-align: right;\n",
       "    }\n",
       "</style>\n",
       "<table border=\"1\" class=\"dataframe\">\n",
       "  <thead>\n",
       "    <tr style=\"text-align: right;\">\n",
       "      <th></th>\n",
       "      <th>num_feats</th>\n",
       "      <th>mean_accuracy</th>\n",
       "      <th>std_accuracy</th>\n",
       "    </tr>\n",
       "  </thead>\n",
       "  <tbody>\n",
       "    <tr>\n",
       "      <th>12</th>\n",
       "      <td>13</td>\n",
       "      <td>0.743227</td>\n",
       "      <td>0.063562</td>\n",
       "    </tr>\n",
       "    <tr>\n",
       "      <th>11</th>\n",
       "      <td>12</td>\n",
       "      <td>0.736207</td>\n",
       "      <td>0.059771</td>\n",
       "    </tr>\n",
       "    <tr>\n",
       "      <th>13</th>\n",
       "      <td>14</td>\n",
       "      <td>0.736207</td>\n",
       "      <td>0.059771</td>\n",
       "    </tr>\n",
       "    <tr>\n",
       "      <th>10</th>\n",
       "      <td>11</td>\n",
       "      <td>0.736084</td>\n",
       "      <td>0.066091</td>\n",
       "    </tr>\n",
       "    <tr>\n",
       "      <th>17</th>\n",
       "      <td>18</td>\n",
       "      <td>0.725739</td>\n",
       "      <td>0.072842</td>\n",
       "    </tr>\n",
       "  </tbody>\n",
       "</table>\n",
       "</div>"
      ],
      "text/plain": [
       "    num_feats  mean_accuracy  std_accuracy\n",
       "12         13       0.743227      0.063562\n",
       "11         12       0.736207      0.059771\n",
       "13         14       0.736207      0.059771\n",
       "10         11       0.736084      0.066091\n",
       "17         18       0.725739      0.072842"
      ]
     },
     "execution_count": 53,
     "metadata": {},
     "output_type": "execute_result"
    }
   ],
   "source": [
    "results_df.sort_values('mean_accuracy', ascending = False).head()"
   ]
  },
  {
   "cell_type": "code",
   "execution_count": 54,
   "id": "civic-transition",
   "metadata": {},
   "outputs": [
    {
     "data": {
      "text/plain": [
       "[<matplotlib.lines.Line2D at 0x132b2761e50>]"
      ]
     },
     "execution_count": 54,
     "metadata": {},
     "output_type": "execute_result"
    },
    {
     "data": {
      "image/png": "[encoded data removed]",
      "text/plain": [
       "<Figure size 432x288 with 1 Axes>"
      ]
     },
     "metadata": {
      "needs_background": "light"
     },
     "output_type": "display_data"
    }
   ],
   "source": [
    "plt.plot(results_df['num_feats'], results_df['mean_accuracy'])"
   ]
  },
  {
   "cell_type": "markdown",
   "id": "billion-jewelry",
   "metadata": {},
   "source": [
    "The inclusion of few features, even whether the most important, helps little. The performance increases with 11 features than peaks at 13. More features make it lose accuracy. This behavior might be due to the fact that some features are correlated, and SVMs assume feature independence, do not taking feature interactions in consideration. The addition of more features, then, might destabilize its predictive capacity. Also, it might be that the additional features add more noise than signal, muddling more than helping.\n",
    "\n",
    "For this challenge, I will stick to 13 features, which has the best accuracy while a marginally larger standard deviation than the second place."
   ]
  },
  {
   "cell_type": "code",
   "execution_count": 55,
   "id": "responsible-compromise",
   "metadata": {},
   "outputs": [],
   "source": [
    "X = X[:, argsort[:13]]"
   ]
  },
  {
   "cell_type": "markdown",
   "id": "laden-third",
   "metadata": {},
   "source": [
    "### Model tuning\n",
    "\n",
    "It is time to tweak the model parameters. I will perform an exhaustive search in the solution space, changing some of the parameters the model accepts around the standard values used so far. The results will be based on the same cross validation strategy used before (10 folds, stratified splitting)."
   ]
  },
  {
   "cell_type": "code",
   "execution_count": 56,
   "id": "pressed-tolerance",
   "metadata": {},
   "outputs": [
    {
     "data": {
      "text/plain": [
       "GridSearchCV(cv=StratifiedKFold(n_splits=10, random_state=42, shuffle=False),\n",
       "             estimator=SVC(), n_jobs=2,\n",
       "             param_grid={'C': [0.1, 1, 10], 'degree': [2, 3, 4, 5],\n",
       "                         'gamma': ['scale', 'auto'],\n",
       "                         'kernel': ['linear', 'poly', 'rbf', 'sigmoid']})"
      ]
     },
     "execution_count": 56,
     "metadata": {},
     "output_type": "execute_result"
    }
   ],
   "source": [
    "params = {\n",
    "    'C': [0.1, 1, 10],\n",
    "    'kernel': ['linear', 'poly', 'rbf', 'sigmoid'],\n",
    "    'degree': [2, 3, 4, 5],\n",
    "    'gamma': ['scale', 'auto']\n",
    "}\n",
    "\n",
    "model = SVC()\n",
    "\n",
    "grid_search = GridSearchCV(model, params, cv = splitter, n_jobs = 2)\n",
    "grid_search.fit(X, y)"
   ]
  },
  {
   "cell_type": "markdown",
   "id": "prepared-expression",
   "metadata": {},
   "source": [
    "Inspecting the best parameters and the best score:"
   ]
  },
  {
   "cell_type": "code",
   "execution_count": 57,
   "id": "animated-trader",
   "metadata": {},
   "outputs": [
    {
     "name": "stdout",
     "output_type": "stream",
     "text": [
      "{'C': 10, 'degree': 2, 'gamma': 'auto', 'kernel': 'rbf'} : 0.7465517241379309\n"
     ]
    }
   ],
   "source": [
    "print(grid_search.best_params_, ':', grid_search.best_score_)"
   ]
  },
  {
   "cell_type": "markdown",
   "id": "particular-brazil",
   "metadata": {},
   "source": [
    "The performance improved a bit. The parameter `degree` does not apply to `kernel` rbf, therefore it can be overlooked. I will try a second run of tuning choosing values for `C` around the best value found so far."
   ]
  },
  {
   "cell_type": "code",
   "execution_count": 58,
   "id": "separate-radar",
   "metadata": {},
   "outputs": [
    {
     "data": {
      "text/plain": [
       "GridSearchCV(cv=StratifiedKFold(n_splits=10, random_state=42, shuffle=False),\n",
       "             estimator=SVC(), n_jobs=2,\n",
       "             param_grid={'C': array([ 0.5,  1. ,  1.5,  2. ,  2.5,  3. ,  3.5,  4. ,  4.5,  5. ,  5.5,\n",
       "        6. ,  6.5,  7. ,  7.5,  8. ,  8.5,  9. ,  9.5, 10. , 10.5, 11. ,\n",
       "       11.5, 12. , 12.5, 13. , 13.5, 14. , 14.5, 15. , 15.5, 16. , 16.5,\n",
       "       17. , 17.5, 18. , 18.5, 19. , 19.5, 20. ]),\n",
       "                         'gamma': ['auto'], 'kernel': ['rbf']})"
      ]
     },
     "execution_count": 58,
     "metadata": {},
     "output_type": "execute_result"
    }
   ],
   "source": [
    "params = {\n",
    "    'C': np.arange(0.5, 20.1, 0.5),\n",
    "    'kernel': ['rbf'],\n",
    "    'gamma': ['auto']\n",
    "}\n",
    "\n",
    "model = SVC()\n",
    "\n",
    "grid_search = GridSearchCV(model, params, cv = splitter, n_jobs = 2)\n",
    "grid_search.fit(X, y)"
   ]
  },
  {
   "cell_type": "code",
   "execution_count": 59,
   "id": "german-medicine",
   "metadata": {},
   "outputs": [
    {
     "name": "stdout",
     "output_type": "stream",
     "text": [
      "{'C': 8.5, 'gamma': 'auto', 'kernel': 'rbf'} : 0.75\n"
     ]
    }
   ],
   "source": [
    "print(grid_search.best_params_, ':', grid_search.best_score_)"
   ]
  },
  {
   "cell_type": "markdown",
   "id": "indirect-agent",
   "metadata": {},
   "source": [
    "The performance improved a little further."
   ]
  },
  {
   "cell_type": "markdown",
   "id": "dominican-ending",
   "metadata": {},
   "source": [
    "### Model training and evaluation\n",
    "\n",
    "At this step, I will use the parameters found above in fine tuning to fit the final model using the whole dataset.\n",
    "\n",
    "First, I will set aside 10% of the data in a test set to report how well the model is performing."
   ]
  },
  {
   "cell_type": "code",
   "execution_count": 60,
   "id": "legislative-bhutan",
   "metadata": {},
   "outputs": [],
   "source": [
    "X_train, X_test, y_train, y_test = train_test_split(X, y, test_size = 0.10, random_state = 42, stratify = y)"
   ]
  },
  {
   "cell_type": "code",
   "execution_count": 61,
   "id": "welcome-realtor",
   "metadata": {},
   "outputs": [
    {
     "data": {
      "text/plain": [
       "SVC(C=8.5, gamma='auto')"
      ]
     },
     "execution_count": 61,
     "metadata": {},
     "output_type": "execute_result"
    }
   ],
   "source": [
    "model =  SVC(**grid_search.best_params_)\n",
    "model.fit(X_train, y_train)"
   ]
  },
  {
   "cell_type": "code",
   "execution_count": 62,
   "id": "hawaiian-valentine",
   "metadata": {},
   "outputs": [
    {
     "data": {
      "text/plain": [
       "0.7241379310344828"
      ]
     },
     "execution_count": 62,
     "metadata": {},
     "output_type": "execute_result"
    }
   ],
   "source": [
    "model.score(X_test, y_test)"
   ]
  },
  {
   "cell_type": "code",
   "execution_count": 63,
   "id": "bacterial-stake",
   "metadata": {},
   "outputs": [
    {
     "data": {
      "text/plain": [
       "array([[17,  3],\n",
       "       [ 5,  4]], dtype=int64)"
      ]
     },
     "execution_count": 63,
     "metadata": {},
     "output_type": "execute_result"
    }
   ],
   "source": [
    "y_pred = model.predict(X_test)\n",
    "confusion_matrix(y_test, y_pred)"
   ]
  },
  {
   "cell_type": "markdown",
   "id": "laden-conclusion",
   "metadata": {},
   "source": [
    "## Conclusion\n",
    "\n",
    "The final evaluation shows an accuracy of 72.4% for this particular split. The result is not impressive, especially given the 68% baseline, but I suppose that it is quite difficult to classify sex based on the features given and chosen to train the model. 17 out of 20 females (85%), and 5 out of 9 males (55%), where correctly classified."
   ]
  },
  {
   "cell_type": "markdown",
   "id": "portuguese-ancient",
   "metadata": {},
   "source": [
    "## Potential improvements\n",
    "\n",
    "If I were asked to improve this model, these are some of the steps that I would follow:\n",
    "- research the literature on the features: to better understand their nature and typical values, and then choose more properly values to drop or to correct;\n",
    "- consult the data provider: to make sure that the features that conflict with the documentation are correctly dealt with, and eventually request if other features would also be available for this population;\n",
    "- try other scalers to scale the numerical features: each scaler is built under certain premisses regarding the underlying data distribution, and I did not investigate them deeper, I actually suspect there is not enough data to derive strong evidence on the data distributions.\n",
    "- try other algorithms to determine feature importance: they also bring some assumptions that I cannot unambiguously rely on, so other methods could deliver better performance;\n",
    "- tune the model changing the preprocessing methods: besides the two points commented above, the number of features selected, for instance, does not have a direct relationship with some parameters of the model, and a more thorough investigation could benefit from optimizing all of them alongside;\n",
    "- tune other model types: it might be that, after tuning, a model that was not performing that well takes a lead over the others;\n",
    "- tune other model parameters: every model allows several parameters to be tweaked, and this investigation could also be deeper;\n",
    "- use other libraries: models like decision trees and neurals networks have dedicated libraries like XGBoost, TensorFlow and PyTorch that allow more sofisticated architectures and implementations, which permit a finer tuning process."
   ]
  },
  {
   "cell_type": "markdown",
   "id": "gross-speaking",
   "metadata": {},
   "source": [
    "## Saving objects for production\n",
    "\n",
    "At last, I will gather all objects that transform data, that were parameterized based on the given dataset, into a dictionary, then save it to disk, to that I can retrieve them in a production setup to transform new incoming data."
   ]
  },
  {
   "cell_type": "code",
   "execution_count": 64,
   "id": "alive-hours",
   "metadata": {},
   "outputs": [
    {
     "data": {
      "text/plain": [
       "['save_objects.joblib']"
      ]
     },
     "execution_count": 64,
     "metadata": {},
     "output_type": "execute_result"
    }
   ],
   "source": [
    "save_objects = {\n",
    "    # The scaler used to scale numerical features\n",
    "    'scaler': scaler,\n",
    "    # The encoder used to hot encode categorical features\n",
    "    'one_hot_encoder': encoder,\n",
    "    # The argsort list that contains the index for the 13 most important features\n",
    "    'argsort': argsort[:13],\n",
    "    # The trained model\n",
    "    'model': model\n",
    "}\n",
    "\n",
    "dump(save_objects, 'save_objects.joblib')"
   ]
  },
  {
   "cell_type": "markdown",
   "id": "plastic-protest",
   "metadata": {},
   "source": [
    "This ends this phase of the model development."
   ]
  }
 ],
 "metadata": {
  "kernelspec": {
   "display_name": "Python 3",
   "language": "python",
   "name": "python3"
  },
  "language_info": {
   "codemirror_mode": {
    "name": "ipython",
    "version": 3
   },
   "file_extension": ".py",
   "mimetype": "text/x-python",
   "name": "python",
   "nbconvert_exporter": "python",
   "pygments_lexer": "ipython3",
   "version": "3.8.5"
  }
 },
 "nbformat": 4,
 "nbformat_minor": 5
}
